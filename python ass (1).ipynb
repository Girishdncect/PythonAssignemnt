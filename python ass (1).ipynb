{
 "cells": [
  {
   "cell_type": "markdown",
   "id": "899bc416-8232-45e2-9b9e-718918c1256b",
   "metadata": {},
   "source": [
    "For Loop :-\n"
   ]
  },
  {
   "cell_type": "markdown",
   "id": "0cce3aa4-9de1-4526-bcc4-e4881be84081",
   "metadata": {},
   "source": [
    "1.Write a Python program to print numbers from 1 to 10 using a for loop."
   ]
  },
  {
   "cell_type": "code",
   "execution_count": 3,
   "id": "6655be64-3dce-4d39-b78f-2d6672f4c33c",
   "metadata": {},
   "outputs": [
    {
     "name": "stdout",
     "output_type": "stream",
     "text": [
      "1 2 3 4 5 6 7 8 9 10 "
     ]
    }
   ],
   "source": [
    "for i in range(1,11):\n",
    "    print (i,end=\" \")"
   ]
  },
  {
   "cell_type": "markdown",
   "id": "2ff6c712-4f4e-42d5-ad7d-175f2f05d4e5",
   "metadata": {},
   "source": [
    "2. Differance between for loop and while loop:"
   ]
  },
  {
   "cell_type": "markdown",
   "id": "0a7f5002-5b16-4f60-a922-7038ab0ae047",
   "metadata": {},
   "source": [
    "1) for loop:- useed for iterating over a sequence (that is either a list , tuple,dictionary,string,or range)\n",
    "2) while loop:-continues to execute a block of code while a certain condition is true "
   ]
  },
  {
   "cell_type": "markdown",
   "id": "96129645-3940-4339-89d8-4eb8526aa430",
   "metadata": {},
   "source": [
    "3.sum of all numbers from 1 to 100 using a for loop:"
   ]
  },
  {
   "cell_type": "code",
   "execution_count": 4,
   "id": "c918e91a-9646-4e2f-a94d-467ec06b78e3",
   "metadata": {},
   "outputs": [
    {
     "name": "stdout",
     "output_type": "stream",
     "text": [
      "sum: 5050\n"
     ]
    }
   ],
   "source": [
    "sum_result=0\n",
    "for num in range(1,101):\n",
    "    sum_result+=num\n",
    "print(\"sum:\",sum_result)    \n",
    "    "
   ]
  },
  {
   "cell_type": "markdown",
   "id": "30744f16-7668-4a1f-adf4-7ab0be6af3b4",
   "metadata": {},
   "source": [
    "4.How do you iterate through a list using a for loop in Python?\n"
   ]
  },
  {
   "cell_type": "code",
   "execution_count": 5,
   "id": "636c0a84-81eb-4ac8-aa03-1c1f3e918664",
   "metadata": {},
   "outputs": [
    {
     "name": "stdout",
     "output_type": "stream",
     "text": [
      "1 2 3 4 5 "
     ]
    }
   ],
   "source": [
    "my_list=[1,2,3,4,5]\n",
    "for item in my_list:\n",
    "    print(item,end=\" \")"
   ]
  },
  {
   "cell_type": "markdown",
   "id": "ff68ddef-c1a5-467c-9a04-7de3bfeb5e9e",
   "metadata": {},
   "source": [
    "5.Write a Python program to find the product of all elements in a list using a for loop.\n"
   ]
  },
  {
   "cell_type": "code",
   "execution_count": 6,
   "id": "4a267224-19fc-4b54-b049-1359936e19b8",
   "metadata": {},
   "outputs": [
    {
     "name": "stdout",
     "output_type": "stream",
     "text": [
      "product 23\n"
     ]
    }
   ],
   "source": [
    "my_list=[1,2,32,435,53,23]\n",
    "product=1\n",
    "for num in my_list:\n",
    "    product *=num\n",
    "print(\"product\",num)    "
   ]
  },
  {
   "cell_type": "markdown",
   "id": "53b3904c-2ab6-47ab-befc-a0d48d0dfc84",
   "metadata": {},
   "source": [
    "6. Print even numbers from 1 to 20 using a for loop:"
   ]
  },
  {
   "cell_type": "code",
   "execution_count": 7,
   "id": "9782a2ba-b9f5-4a04-bc1b-6798743704eb",
   "metadata": {},
   "outputs": [
    {
     "name": "stdout",
     "output_type": "stream",
     "text": [
      "2 4 6 8 10 12 14 16 18 20 "
     ]
    }
   ],
   "source": [
    "for i in range(2,21,2):\n",
    "    print(i,end=\" \")"
   ]
  },
  {
   "cell_type": "markdown",
   "id": "3bef8e9c-1c23-4b3b-9a83-1a99de9e287f",
   "metadata": {},
   "source": [
    "7.factorial of number "
   ]
  },
  {
   "cell_type": "code",
   "execution_count": 9,
   "id": "8df5a7ea-8a87-4098-8c68-6d1e7a93c9b9",
   "metadata": {},
   "outputs": [
    {
     "name": "stdin",
     "output_type": "stream",
     "text": [
      "enter the number 3\n"
     ]
    },
    {
     "name": "stdout",
     "output_type": "stream",
     "text": [
      "factorial 6\n"
     ]
    }
   ],
   "source": [
    "num=int(input(\"enter the number\"))\n",
    "factorial=1\n",
    "for i in range(1,num+1):\n",
    "    factorial*=i\n",
    "print(\"factorial\",factorial)    "
   ]
  },
  {
   "cell_type": "markdown",
   "id": "565499a0-8fa6-4633-8aa6-8b754c4765b9",
   "metadata": {},
   "source": [
    "8. Iterate through characters of a string using a for loop:"
   ]
  },
  {
   "cell_type": "code",
   "execution_count": 23,
   "id": "c2ae6a7f-1239-4767-99d2-626c9dcc013c",
   "metadata": {},
   "outputs": [
    {
     "name": "stdout",
     "output_type": "stream",
     "text": [
      "H e l l o   P w "
     ]
    }
   ],
   "source": [
    "my_string=\"Hello Pw\"\n",
    "for i in  my_string:\n",
    "    print(i,end=\" \")"
   ]
  },
  {
   "cell_type": "markdown",
   "id": "226fb097-8c2b-4440-9e12-4384451a375f",
   "metadata": {},
   "source": [
    "9. Find the largest number in a list using a for loop:\n"
   ]
  },
  {
   "cell_type": "code",
   "execution_count": 24,
   "id": "2d9a0dc8-8acf-4273-ab11-da6d9b7a76b0",
   "metadata": {},
   "outputs": [
    {
     "name": "stdout",
     "output_type": "stream",
     "text": [
      "Largest: 10\n"
     ]
    }
   ],
   "source": [
    "my_list = [4, 8, 2, 10, 5]\n",
    "largest = my_list[0]\n",
    "for num in my_list:\n",
    "    if num > largest:\n",
    "        largest = num\n",
    "print(\"Largest:\", largest)\n"
   ]
  },
  {
   "cell_type": "markdown",
   "id": "57027930-7286-47eb-88ae-9de22080a681",
   "metadata": {},
   "source": [
    "10. Print Fibonacci sequence up to a specified limit using a for loop:"
   ]
  },
  {
   "cell_type": "code",
   "execution_count": 25,
   "id": "0bb8d6c2-df0d-4b42-87ac-dd64fb457a46",
   "metadata": {},
   "outputs": [
    {
     "name": "stdout",
     "output_type": "stream",
     "text": [
      "0 1 1 2 3 5 8 13 21 34 "
     ]
    }
   ],
   "source": [
    "limit = 10\n",
    "a, b = 0, 1\n",
    "for _ in range(limit):\n",
    "    print(a, end=\" \")\n",
    "    a, b = b, a + b\n"
   ]
  },
  {
   "cell_type": "markdown",
   "id": "ffea2e49-c1ca-4f16-8134-c25fc09ed9e3",
   "metadata": {},
   "source": [
    "11. Count number of vowels in a string using a for loop:"
   ]
  },
  {
   "cell_type": "code",
   "execution_count": 3,
   "id": "0df85e6d-0b40-4721-b143-060990db16f4",
   "metadata": {},
   "outputs": [],
   "source": [
    "def count_vowels(input_string):\n",
    "    vowels=\"aeiouAEIOU\"\n",
    "    count =0\n",
    "    \n",
    "    for char in input_string:\n",
    "        if char in vowels:\n",
    "            count +=1\n",
    "    return count        \n",
    "            "
   ]
  },
  {
   "cell_type": "code",
   "execution_count": 6,
   "id": "85efbfe5-b03a-4785-8316-b6c75dbd2497",
   "metadata": {},
   "outputs": [
    {
     "data": {
      "text/plain": [
       "2"
      ]
     },
     "execution_count": 6,
     "metadata": {},
     "output_type": "execute_result"
    }
   ],
   "source": [
    "count_vowels(\"girish\")"
   ]
  },
  {
   "cell_type": "markdown",
   "id": "1d51e8cf-ef35-4f37-853c-937d65a415b1",
   "metadata": {},
   "source": [
    "12.Create a Python program that generates a multiplication table for a given number using a for loop.\n"
   ]
  },
  {
   "cell_type": "code",
   "execution_count": 7,
   "id": "fb6d57f2-0060-4f09-b77e-007916c3bcf0",
   "metadata": {},
   "outputs": [],
   "source": [
    "def mul_tab(num):\n",
    "    for i in range(1,11):\n",
    "        result = num*i\n",
    "        print(f\"{num}*{i}={result}\")"
   ]
  },
  {
   "cell_type": "code",
   "execution_count": 8,
   "id": "8c948d6f-7ed4-4279-87d9-87200d858c84",
   "metadata": {},
   "outputs": [
    {
     "name": "stdout",
     "output_type": "stream",
     "text": [
      "12*1=12\n",
      "12*2=24\n",
      "12*3=36\n",
      "12*4=48\n",
      "12*5=60\n",
      "12*6=72\n",
      "12*7=84\n",
      "12*8=96\n",
      "12*9=108\n",
      "12*10=120\n"
     ]
    }
   ],
   "source": [
    "mul_tab(12)"
   ]
  },
  {
   "cell_type": "markdown",
   "id": "b7b7c362-f836-4d04-b91a-642461d762ba",
   "metadata": {},
   "source": [
    "13.Write a Python program to reverse a list using a for loop"
   ]
  },
  {
   "cell_type": "code",
   "execution_count": 17,
   "id": "47aac716-8076-4210-8069-fabb4fb2fae2",
   "metadata": {},
   "outputs": [
    {
     "name": "stdout",
     "output_type": "stream",
     "text": [
      "[5, 4, 3, 2, 1]\n"
     ]
    }
   ],
   "source": [
    "def reverse_list(input_list):\n",
    "    reversed_list=[]\n",
    "    for item in reversed(input_list):\n",
    "        reversed_list.append(item)\n",
    "    return reversed_list\n",
    "\n",
    "original_list = [1,2,3,4,5]\n",
    "reversed_result = reverse_list(original_list)\n",
    "print(reversed_result)"
   ]
  },
  {
   "cell_type": "markdown",
   "id": "8cccaa48-88c2-4c05-a746-6165e291168c",
   "metadata": {},
   "source": [
    "14.Write a Python program to find the common elements between two lists using a for loop.\n"
   ]
  },
  {
   "cell_type": "code",
   "execution_count": 31,
   "id": "c9123ac7-03aa-4f19-8d50-8bd74bec83b6",
   "metadata": {},
   "outputs": [
    {
     "name": "stdout",
     "output_type": "stream",
     "text": [
      "[3, 4, 5]\n"
     ]
    }
   ],
   "source": [
    "def common_elements(list1, list2):\n",
    "    common = []\n",
    "    for item in list1:\n",
    "        if item in list2:\n",
    "            common.append(item)\n",
    "    return common\n",
    "\n",
    "list_a = [1, 2, 3, 4, 5]\n",
    "list_b = [3, 4, 5, 6, 7]\n",
    "common_elements_result = common_elements(list_a, list_b)\n",
    "print(common_elements_result)\n"
   ]
  },
  {
   "cell_type": "markdown",
   "id": "c563e4eb-bf4d-4260-afed-e063e097be63",
   "metadata": {},
   "source": [
    "15. Iterate through Keys and Values of a Dictionary"
   ]
  },
  {
   "cell_type": "code",
   "execution_count": 32,
   "id": "4e4e6b94-b1f3-4550-80db-462a26b4599f",
   "metadata": {},
   "outputs": [
    {
     "name": "stdout",
     "output_type": "stream",
     "text": [
      "Key: a, Value: 1\n",
      "Key: b, Value: 2\n",
      "Key: c, Value: 3\n"
     ]
    }
   ],
   "source": [
    "my_dict = {'a': 1, 'b': 2, 'c': 3}\n",
    "\n",
    "for key, value in my_dict.items():\n",
    "    print(f\"Key: {key}, Value: {value}\")\n"
   ]
  },
  {
   "cell_type": "markdown",
   "id": "2412d495-17d3-40c6-a83b-034eb3236123",
   "metadata": {},
   "source": [
    "16Write a Python program to find the GCD (Greatest Common Divisor) of two numbers using a for loop.\n"
   ]
  },
  {
   "cell_type": "code",
   "execution_count": 34,
   "id": "3b563de0-30ae-4215-9324-6eed43dee236",
   "metadata": {},
   "outputs": [
    {
     "name": "stdout",
     "output_type": "stream",
     "text": [
      "GCD of 48 and 18 is 6\n"
     ]
    }
   ],
   "source": [
    "def find_gcd(x, y):\n",
    "    while(y):\n",
    "        x, y = y, x % y\n",
    "    return x\n",
    "\n",
    "num1 = 48\n",
    "num2 = 18\n",
    "gcd_result = find_gcd(num1, num2)\n",
    "print(f\"GCD of {num1} and {num2} is {gcd_result}\")\n"
   ]
  },
  {
   "cell_type": "markdown",
   "id": "2497ac0d-abfe-4a35-9f73-99eed96e847c",
   "metadata": {},
   "source": [
    "17.Create a Python program that checks if a string is a palindrome using a for loop."
   ]
  },
  {
   "cell_type": "code",
   "execution_count": 35,
   "id": "5e54becb-cc16-455c-80ac-b1b224bdc873",
   "metadata": {},
   "outputs": [
    {
     "name": "stdout",
     "output_type": "stream",
     "text": [
      "True\n"
     ]
    }
   ],
   "source": [
    "def is_palindrome(s):\n",
    "    s = s.lower()\n",
    "    for i in range(len(s) // 2):\n",
    "        if s[i] != s[len(s) - 1 - i]:\n",
    "            return False\n",
    "    return True\n",
    "\n",
    "test_string = \"radar\"\n",
    "print(is_palindrome(test_string))\n"
   ]
  },
  {
   "cell_type": "markdown",
   "id": "0dcd706b-5d8a-4834-8be6-44c9e6d79881",
   "metadata": {},
   "source": [
    "18.Write a Python program to remove duplicates from a list using a for loop.\n"
   ]
  },
  {
   "cell_type": "code",
   "execution_count": 36,
   "id": "7dea0953-26ab-4083-9e8a-ae3971aa9862",
   "metadata": {},
   "outputs": [
    {
     "name": "stdout",
     "output_type": "stream",
     "text": [
      "[1, 2, 3, 4, 5]\n"
     ]
    }
   ],
   "source": [
    "def remove_duplicates(input_list):\n",
    "    unique_list = []\n",
    "    for item in input_list:\n",
    "        if item not in unique_list:\n",
    "            unique_list.append(item)\n",
    "    return unique_list\n",
    "\n",
    "original_list = [1, 2, 2, 3, 4, 4, 5]\n",
    "no_duplicates_result = remove_duplicates(original_list)\n",
    "print(no_duplicates_result)\n"
   ]
  },
  {
   "cell_type": "markdown",
   "id": "b39fb846-a6d4-4a2c-bc8c-a714df76a775",
   "metadata": {},
   "source": [
    "19.Create a Python program that counts the number of words in a sentence using a for loop."
   ]
  },
  {
   "cell_type": "code",
   "execution_count": 37,
   "id": "c2c33a4a-0d98-41bb-b1cb-637f030dbc2b",
   "metadata": {},
   "outputs": [
    {
     "name": "stdout",
     "output_type": "stream",
     "text": [
      "Number of words: 5\n"
     ]
    }
   ],
   "source": [
    "def count_words(sentence):\n",
    "    words = sentence.split()\n",
    "    word_count = len(words)\n",
    "    return word_count\n",
    "\n",
    "input_sentence = \"This is a sample sentence.\"\n",
    "word_count_result = count_words(input_sentence)\n",
    "print(f\"Number of words: {word_count_result}\")\n"
   ]
  },
  {
   "cell_type": "markdown",
   "id": "e46c80b3-d066-4f7d-bf46-7568c9b63c00",
   "metadata": {},
   "source": [
    "20.Write a Python program to find the sum of all odd numbers from 1 to 50 using a for loop."
   ]
  },
  {
   "cell_type": "code",
   "execution_count": 38,
   "id": "b9328307-1715-4b27-9687-0342a3c596fe",
   "metadata": {},
   "outputs": [
    {
     "name": "stdout",
     "output_type": "stream",
     "text": [
      "Sum of odd numbers from 1 to 50: 625\n"
     ]
    }
   ],
   "source": [
    "sum_odd = 0\n",
    "for i in range(1, 51, 2):\n",
    "    sum_odd += i\n",
    "\n",
    "print(f\"Sum of odd numbers from 1 to 50: {sum_odd}\")\n"
   ]
  },
  {
   "cell_type": "markdown",
   "id": "0ae28ad3-c6c8-4c72-9734-4013848d309f",
   "metadata": {},
   "source": [
    "21.Write a Python program that checks if a given year is a leap year using a for loop.\n"
   ]
  },
  {
   "cell_type": "code",
   "execution_count": 39,
   "id": "2630f9ab-9edf-4b11-8e8a-cdc19839963a",
   "metadata": {},
   "outputs": [
    {
     "name": "stdout",
     "output_type": "stream",
     "text": [
      "True\n"
     ]
    }
   ],
   "source": [
    "def is_leap_year(year):\n",
    "    if (year % 4 == 0 and year % 100 != 0) or (year % 400 == 0):\n",
    "        return True\n",
    "    else:\n",
    "        return False\n",
    "\n",
    "test_year = 2024\n",
    "print(is_leap_year(test_year))\n"
   ]
  },
  {
   "cell_type": "markdown",
   "id": "70fc0f63-ac7b-484a-8c8a-a1c20abb07df",
   "metadata": {},
   "source": [
    "22.Create a Python program that calculates the square root of a number using a for loop."
   ]
  },
  {
   "cell_type": "code",
   "execution_count": 40,
   "id": "581e393c-0308-4b70-81fd-c11d188136a4",
   "metadata": {},
   "outputs": [
    {
     "name": "stdout",
     "output_type": "stream",
     "text": [
      "Square root of 25 is approximately 5.0\n"
     ]
    }
   ],
   "source": [
    "def square_root(number):\n",
    "    guess = number / 2\n",
    "    for _ in range(10):  \n",
    "        guess = 0.5 * (guess + number / guess)\n",
    "    return guess\n",
    "\n",
    "num = 25\n",
    "sqrt_result = square_root(num)\n",
    "print(f\"Square root of {num} is approximately {sqrt_result}\")\n"
   ]
  },
  {
   "cell_type": "markdown",
   "id": "11058b19-8ed5-4ecc-966b-880d819bac1a",
   "metadata": {},
   "source": [
    "23.Write a Python program to find the LCM (Least Common Multiple) of two numbers using a for loop."
   ]
  },
  {
   "cell_type": "code",
   "execution_count": 41,
   "id": "997a0962-b14e-4182-9bf7-c7492b156585",
   "metadata": {},
   "outputs": [
    {
     "name": "stdout",
     "output_type": "stream",
     "text": [
      "LCM of 12 and 18 is 36\n"
     ]
    }
   ],
   "source": [
    "def find_lcm(x, y):\n",
    "    lcm = x if x > y else y\n",
    "    while True:\n",
    "        if lcm % x == 0 and lcm % y == 0:\n",
    "            return lcm\n",
    "        lcm += 1\n",
    "\n",
    "# Example usage:\n",
    "num1 = 12\n",
    "num2 = 18\n",
    "lcm_result = find_lcm(num1, num2)\n",
    "print(f\"LCM of {num1} and {num2} is {lcm_result}\")\n"
   ]
  },
  {
   "cell_type": "markdown",
   "id": "3e7c2fb3-8f0e-4d85-8492-65ab3df2303c",
   "metadata": {},
   "source": [
    "Write a Python program to check if a number is positive, negative, or zero using an if-else statement.\n"
   ]
  },
  {
   "cell_type": "code",
   "execution_count": 42,
   "id": "93a322ac-3180-4c99-a94d-3836107a5677",
   "metadata": {},
   "outputs": [
    {
     "name": "stdin",
     "output_type": "stream",
     "text": [
      "Enter a number:  3\n"
     ]
    },
    {
     "name": "stdout",
     "output_type": "stream",
     "text": [
      "Positive\n"
     ]
    }
   ],
   "source": [
    "number = float(input(\"Enter a number: \"))\n",
    "if number > 0:\n",
    "    print(\"Positive\")\n",
    "elif number < 0:\n",
    "    print(\"Negative\")\n",
    "else:\n",
    "    print(\"Zero\")\n"
   ]
  },
  {
   "cell_type": "markdown",
   "id": "6d94ddb2-d83d-44c7-9893-e7a25b737748",
   "metadata": {},
   "source": [
    "Create a Python program that checks if a given number is even or odd using an if-else statement.\n"
   ]
  },
  {
   "cell_type": "code",
   "execution_count": 44,
   "id": "a4b8a3ee-3804-427f-a02e-dcc921243c41",
   "metadata": {},
   "outputs": [
    {
     "name": "stdin",
     "output_type": "stream",
     "text": [
      "Enter a number:  8\n"
     ]
    },
    {
     "name": "stdout",
     "output_type": "stream",
     "text": [
      "Even\n"
     ]
    }
   ],
   "source": [
    "number = int(input(\"Enter a number: \"))\n",
    "if number % 2 == 0:\n",
    "    print(\"Even\")\n",
    "else:\n",
    "    print(\"Odd\")\n"
   ]
  },
  {
   "cell_type": "markdown",
   "id": "7d33ade0-7b61-4cc7-9da7-2a4cf9782a1b",
   "metadata": {},
   "source": [
    "How can you use nested if-else statements in Python, and provide an example?\n"
   ]
  },
  {
   "cell_type": "code",
   "execution_count": 45,
   "id": "36bd455a-d2ae-451a-98cd-e73fcb1286c0",
   "metadata": {},
   "outputs": [
    {
     "name": "stdin",
     "output_type": "stream",
     "text": [
      "Enter a number:  -8\n"
     ]
    },
    {
     "name": "stdout",
     "output_type": "stream",
     "text": [
      "Non-positive\n"
     ]
    }
   ],
   "source": [
    "number = int(input(\"Enter a number: \"))\n",
    "if number > 0:\n",
    "    print(\"Positive\")\n",
    "    if number % 2 == 0:\n",
    "        print(\"Even\")\n",
    "    else:\n",
    "        print(\"Odd\")\n",
    "else:\n",
    "    print(\"Non-positive\")\n"
   ]
  },
  {
   "cell_type": "markdown",
   "id": "89a310e0-49ca-4164-b6ac-24d1a30552c6",
   "metadata": {},
   "source": [
    "Determine the largest of three numbers:"
   ]
  },
  {
   "cell_type": "code",
   "execution_count": 46,
   "id": "e277c7ed-4e63-42a1-8e47-5493799d4327",
   "metadata": {},
   "outputs": [
    {
     "name": "stdin",
     "output_type": "stream",
     "text": [
      "Enter first number:  3\n",
      "Enter second number:  2\n",
      "Enter third number:  9\n"
     ]
    },
    {
     "name": "stdout",
     "output_type": "stream",
     "text": [
      "Largest number: 9.0\n"
     ]
    }
   ],
   "source": [
    "num1 = float(input(\"Enter first number: \"))\n",
    "num2 = float(input(\"Enter second number: \"))\n",
    "num3 = float(input(\"Enter third number: \"))\n",
    "\n",
    "if num1 >= num2 and num1 >= num3:\n",
    "    largest = num1\n",
    "elif num2 >= num1 and num2 >= num3:\n",
    "    largest = num2\n",
    "else:\n",
    "    largest = num3\n",
    "\n",
    "print(\"Largest number:\", largest)\n"
   ]
  },
  {
   "cell_type": "markdown",
   "id": "5bff42a6-b16b-4991-a81d-46f7497404a1",
   "metadata": {},
   "source": [
    "Calculate the absolute value of a number:"
   ]
  },
  {
   "cell_type": "code",
   "execution_count": 49,
   "id": "ebd8e4c8-a27f-4073-a13f-bc366a9aaf1a",
   "metadata": {},
   "outputs": [
    {
     "name": "stdin",
     "output_type": "stream",
     "text": [
      "Enter a number:  -87\n"
     ]
    },
    {
     "name": "stdout",
     "output_type": "stream",
     "text": [
      "Absolute value: 87.0\n"
     ]
    }
   ],
   "source": [
    "number = float(input(\"Enter a number: \"))\n",
    "if number < 0:\n",
    "    absolute_value = -number\n",
    "else:\n",
    "    absolute_value = number\n",
    "\n",
    "print(\"Absolute value:\", absolute_value)\n"
   ]
  },
  {
   "cell_type": "markdown",
   "id": "f6cfa56b-ae95-47ee-b378-2bc1ebc97b86",
   "metadata": {},
   "source": [
    "Check if a given character is a vowel or consonant:"
   ]
  },
  {
   "cell_type": "code",
   "execution_count": 51,
   "id": "246828e8-388f-4e96-9677-40f492a018e2",
   "metadata": {},
   "outputs": [
    {
     "name": "stdin",
     "output_type": "stream",
     "text": [
      "Enter a character:  H\n"
     ]
    },
    {
     "name": "stdout",
     "output_type": "stream",
     "text": [
      "Consonant\n"
     ]
    }
   ],
   "source": [
    "char = input(\"Enter a character: \").lower()\n",
    "if char.isalpha():\n",
    "    if char in \"aeiou\":\n",
    "        print(\"Vowel\")\n",
    "    else:\n",
    "        print(\"Consonant\")\n",
    "else:\n",
    "    print(\"Not a valid character\")\n"
   ]
  },
  {
   "cell_type": "markdown",
   "id": "9626e527-df7a-4b0f-b123-cb62c37ce10e",
   "metadata": {},
   "source": [
    "Determine if a user is eligible to vote based on age:"
   ]
  },
  {
   "cell_type": "code",
   "execution_count": 53,
   "id": "ac8d81d0-dc11-4f62-a9f1-af10997f6f28",
   "metadata": {},
   "outputs": [
    {
     "name": "stdin",
     "output_type": "stream",
     "text": [
      "Enter your age:  17\n"
     ]
    },
    {
     "name": "stdout",
     "output_type": "stream",
     "text": [
      "You are not eligible to vote\n"
     ]
    }
   ],
   "source": [
    "age = int(input(\"Enter your age: \"))\n",
    "if age >= 18:\n",
    "    print(\"You are eligible to vote\")\n",
    "else:\n",
    "    print(\"You are not eligible to vote\")\n"
   ]
  },
  {
   "cell_type": "markdown",
   "id": "61fd9464-2af6-44a9-9abb-f374f774e2e4",
   "metadata": {},
   "source": [
    "Calculate discount amount based on purchase amount:"
   ]
  },
  {
   "cell_type": "code",
   "execution_count": 55,
   "id": "d2972e6b-78e6-4018-9c57-9eb69feae482",
   "metadata": {},
   "outputs": [
    {
     "name": "stdin",
     "output_type": "stream",
     "text": [
      "Enter the purchase amount:  1090\n"
     ]
    },
    {
     "name": "stdout",
     "output_type": "stream",
     "text": [
      "Discount amount: 109.0\n"
     ]
    }
   ],
   "source": [
    "purchase_amount = float(input(\"Enter the purchase amount: \"))\n",
    "if purchase_amount > 1000:\n",
    "    discount = 0.1 * purchase_amount\n",
    "else:\n",
    "    discount = 0\n",
    "\n",
    "print(\"Discount amount:\", discount)\n"
   ]
  },
  {
   "cell_type": "markdown",
   "id": "0dc13a51-1bfb-49ce-9d66-9802cb34b8ee",
   "metadata": {},
   "source": [
    "Check if a number is within a specified range:"
   ]
  },
  {
   "cell_type": "code",
   "execution_count": 56,
   "id": "c4e560ce-0d66-49ed-bf32-88b7d98174f1",
   "metadata": {},
   "outputs": [
    {
     "name": "stdin",
     "output_type": "stream",
     "text": [
      "Enter a number:  54\n"
     ]
    },
    {
     "name": "stdout",
     "output_type": "stream",
     "text": [
      "Number is outside the specified range\n"
     ]
    }
   ],
   "source": [
    "number = float(input(\"Enter a number: \"))\n",
    "lower_limit = 10\n",
    "upper_limit = 50\n",
    "\n",
    "if lower_limit <= number <= upper_limit:\n",
    "    print(\"Number is within the specified range\")\n",
    "else:\n",
    "    print(\"Number is outside the specified range\")\n"
   ]
  },
  {
   "cell_type": "markdown",
   "id": "2f3444dc-cf36-4422-932e-f29901594da5",
   "metadata": {},
   "source": [
    "Determine the grade of a student based on their score:"
   ]
  },
  {
   "cell_type": "code",
   "execution_count": 57,
   "id": "db2ebc71-f862-4335-b8be-a29d8085b6b5",
   "metadata": {},
   "outputs": [
    {
     "name": "stdin",
     "output_type": "stream",
     "text": [
      "Enter your score:  81\n"
     ]
    },
    {
     "name": "stdout",
     "output_type": "stream",
     "text": [
      "Your grade is: B\n"
     ]
    }
   ],
   "source": [
    "score = float(input(\"Enter your score: \"))\n",
    "if 90 <= score <= 100:\n",
    "    grade = 'A'\n",
    "elif 80 <= score < 90:\n",
    "    grade = 'B'\n",
    "elif 70 <= score < 80:\n",
    "    grade = 'C'\n",
    "elif 60 <= score < 70:\n",
    "    grade = 'D'\n",
    "else:\n",
    "    grade = 'F'\n",
    "\n",
    "print(\"Your grade is:\", grade)\n"
   ]
  },
  {
   "cell_type": "markdown",
   "id": "c4b8fded-4b5d-4ca3-ac33-f51aa47e67f2",
   "metadata": {},
   "source": [
    "\n",
    "Check if a string is empty or not:"
   ]
  },
  {
   "cell_type": "code",
   "execution_count": 60,
   "id": "5eeb77ce-7997-46a6-b413-838f8e77458d",
   "metadata": {},
   "outputs": [
    {
     "name": "stdin",
     "output_type": "stream",
     "text": [
      "Enter a string:  uhhnhn\n"
     ]
    },
    {
     "name": "stdout",
     "output_type": "stream",
     "text": [
      "The string is not empty.\n"
     ]
    }
   ],
   "source": [
    "user_input = input(\"Enter a string: \")\n",
    "\n",
    "if user_input:\n",
    "    print(\"The string is not empty.\")\n",
    "else:\n",
    "    print(\"The string is empty.\")\n"
   ]
  },
  {
   "cell_type": "markdown",
   "id": "930fe04d-b93c-4f46-9a78-6b6637452e62",
   "metadata": {},
   "source": [
    "Identify the type of a triangle:"
   ]
  },
  {
   "cell_type": "code",
   "execution_count": 61,
   "id": "a1ee0e5f-4d3d-4135-be8c-ec4f39ac9f01",
   "metadata": {},
   "outputs": [
    {
     "name": "stdin",
     "output_type": "stream",
     "text": [
      "Enter the length of the first side:  90\n",
      "Enter the length of the second side:  8\n",
      "Enter the length of the third side:  4\n"
     ]
    },
    {
     "name": "stdout",
     "output_type": "stream",
     "text": [
      "Scalene triangle\n"
     ]
    }
   ],
   "source": [
    "side1 = float(input(\"Enter the length of the first side: \"))\n",
    "side2 = float(input(\"Enter the length of the second side: \"))\n",
    "side3 = float(input(\"Enter the length of the third side: \"))\n",
    "\n",
    "if side1 == side2 == side3:\n",
    "    print(\"Equilateral triangle\")\n",
    "elif side1 == side2 or side1 == side3 or side2 == side3:\n",
    "    print(\"Isosceles triangle\")\n",
    "else:\n",
    "    print(\"Scalene triangle\")\n"
   ]
  },
  {
   "cell_type": "markdown",
   "id": "475bd146-bede-429f-a1d0-54296588e4a6",
   "metadata": {},
   "source": [
    "Determine the day of the week based on a user-provided number:"
   ]
  },
  {
   "cell_type": "code",
   "execution_count": 62,
   "id": "a197cb92-1eb1-49e0-88c6-cf9b3894d099",
   "metadata": {},
   "outputs": [
    {
     "name": "stdin",
     "output_type": "stream",
     "text": [
      "Enter a number (1-7):  7\n"
     ]
    },
    {
     "name": "stdout",
     "output_type": "stream",
     "text": [
      "The day is: Sunday\n"
     ]
    }
   ],
   "source": [
    "day_number = int(input(\"Enter a number (1-7): \"))\n",
    "\n",
    "if 1 <= day_number <= 7:\n",
    "    days = [\"Monday\", \"Tuesday\", \"Wednesday\", \"Thursday\", \"Friday\", \"Saturday\", \"Sunday\"]\n",
    "    print(\"The day is:\", days[day_number - 1])\n",
    "else:\n",
    "    print(\"Invalid day number\")\n"
   ]
  },
  {
   "cell_type": "markdown",
   "id": "a7a6870c-93e2-49b3-8dc3-3ee47cac8d65",
   "metadata": {},
   "source": [
    "Check if a given year is a leap year using a function and if-else:"
   ]
  },
  {
   "cell_type": "code",
   "execution_count": 63,
   "id": "0376c223-531f-4ab0-b233-385dc4df630a",
   "metadata": {},
   "outputs": [
    {
     "name": "stdin",
     "output_type": "stream",
     "text": [
      "Enter a year:  2089\n"
     ]
    },
    {
     "name": "stdout",
     "output_type": "stream",
     "text": [
      "2089 is not a leap year.\n"
     ]
    }
   ],
   "source": [
    "def is_leap_year(year):\n",
    "    if (year % 4 == 0 and year % 100 != 0) or (year % 400 == 0):\n",
    "        return True\n",
    "    else:\n",
    "        return False\n",
    "\n",
    "year = int(input(\"Enter a year: \"))\n",
    "\n",
    "if is_leap_year(year):\n",
    "    print(f\"{year} is a leap year.\")\n",
    "else:\n",
    "    print(f\"{year} is not a leap year.\")\n"
   ]
  },
  {
   "cell_type": "markdown",
   "id": "dbac7b43-89c8-4bec-a20a-d4cf175558c0",
   "metadata": {},
   "source": [
    "Using \"assert\" statement for debugging checks within if-else blocks:"
   ]
  },
  {
   "cell_type": "code",
   "execution_count": 64,
   "id": "c642a8fa-898a-484d-996f-86e52d72b4b8",
   "metadata": {},
   "outputs": [
    {
     "name": "stdin",
     "output_type": "stream",
     "text": [
      "Enter a number:  66\n"
     ]
    },
    {
     "name": "stdout",
     "output_type": "stream",
     "text": [
      "Even\n"
     ]
    }
   ],
   "source": [
    "number = int(input(\"Enter a number: \"))\n",
    "\n",
    "assert number > 0, \"Number should be positive\"\n",
    "# The program continues if the assertion is true\n",
    "\n",
    "if number % 2 == 0:\n",
    "    print(\"Even\")\n",
    "else:\n",
    "    print(\"Odd\")\n"
   ]
  },
  {
   "cell_type": "markdown",
   "id": "d54e79ab-b1bf-4596-9f01-388915e682fb",
   "metadata": {},
   "source": [
    "Determine if a given number is prime or not:"
   ]
  },
  {
   "cell_type": "code",
   "execution_count": 65,
   "id": "b0cd385b-9721-4980-be3f-55116f59e3ce",
   "metadata": {},
   "outputs": [
    {
     "name": "stdin",
     "output_type": "stream",
     "text": [
      "Enter a number:  21\n"
     ]
    },
    {
     "name": "stdout",
     "output_type": "stream",
     "text": [
      "21 is not a prime number.\n"
     ]
    }
   ],
   "source": [
    "def is_prime(num):\n",
    "    if num < 2:\n",
    "        return False\n",
    "    for i in range(2, int(num**0.5) + 1):\n",
    "        if num % i == 0:\n",
    "            return False\n",
    "    return True\n",
    "\n",
    "number = int(input(\"Enter a number: \"))\n",
    "\n",
    "if is_prime(number):\n",
    "    print(f\"{number} is a prime number.\")\n",
    "else:\n",
    "    print(f\"{number} is not a prime number.\")\n"
   ]
  },
  {
   "cell_type": "markdown",
   "id": "bea86641-c2df-4f71-a13b-0f0dfc25a7d6",
   "metadata": {},
   "source": [
    "Use \"filter()\" function with if-else to filter elements from a list:"
   ]
  },
  {
   "cell_type": "code",
   "execution_count": 66,
   "id": "a5e5a26b-2b84-42d3-a1c8-94fe44b698b5",
   "metadata": {},
   "outputs": [
    {
     "name": "stdout",
     "output_type": "stream",
     "text": [
      "Even numbers: [2, 4, 6, 8, 10]\n"
     ]
    }
   ],
   "source": [
    "numbers = [1, 2, 3, 4, 5, 6, 7, 8, 9, 10]\n",
    "\n",
    "filtered_numbers = filter(lambda x: x % 2 == 0, numbers)\n",
    "even_numbers = list(filtered_numbers)\n",
    "\n",
    "print(\"Even numbers:\", even_numbers)\n"
   ]
  },
  {
   "cell_type": "markdown",
   "id": "566e42ab-2899-4e35-ad21-79318d198c41",
   "metadata": {},
   "source": [
    "Determine if a given number is prime or not:\n"
   ]
  },
  {
   "cell_type": "code",
   "execution_count": 67,
   "id": "a84f2d53-9da1-460f-bdaf-bbac72e5257d",
   "metadata": {},
   "outputs": [
    {
     "name": "stdin",
     "output_type": "stream",
     "text": [
      "Enter a number:  87\n"
     ]
    },
    {
     "name": "stdout",
     "output_type": "stream",
     "text": [
      "87 is not a prime number.\n"
     ]
    }
   ],
   "source": [
    "def is_prime(num):\n",
    "    if num < 2:\n",
    "        return False\n",
    "    for i in range(2, int(num**0.5) + 1):\n",
    "        if num % i == 0:\n",
    "            return False\n",
    "    return True\n",
    "\n",
    "number = int(input(\"Enter a number: \"))\n",
    "\n",
    "if is_prime(number):\n",
    "    print(f\"{number} is a prime number.\")\n",
    "else:\n",
    "    print(f\"{number} is not a prime number.\")\n"
   ]
  },
  {
   "cell_type": "markdown",
   "id": "b11f761d-1624-4f69-9c88-42de7e7153f5",
   "metadata": {},
   "source": [
    "Calculate the BMI (Body Mass Index) of a person:\n",
    "python\n"
   ]
  },
  {
   "cell_type": "code",
   "execution_count": 68,
   "id": "f57cf2ca-b047-404d-9093-d1ff4a884e37",
   "metadata": {},
   "outputs": [
    {
     "name": "stdin",
     "output_type": "stream",
     "text": [
      "Enter your weight in kg:  55\n",
      "Enter your height in meters:  15\n"
     ]
    },
    {
     "name": "stdout",
     "output_type": "stream",
     "text": [
      "Underweight\n"
     ]
    }
   ],
   "source": [
    "weight = float(input(\"Enter your weight in kg: \"))\n",
    "height = float(input(\"Enter your height in meters: \"))\n",
    "\n",
    "bmi = weight / (height ** 2)\n",
    "\n",
    "if bmi < 18.5:\n",
    "    print(\"Underweight\")\n",
    "elif 18.5 <= bmi < 25:\n",
    "    print(\"Normal weight\")\n",
    "elif 25 <= bmi < 30:\n",
    "    print(\"Overweight\")\n",
    "else:\n",
    "    print(\"Obese\")\n"
   ]
  },
  {
   "cell_type": "markdown",
   "id": "e1a7593b-24f9-451b-b470-7df1f794cd78",
   "metadata": {},
   "source": [
    "map"
   ]
  },
  {
   "cell_type": "markdown",
   "id": "ab2f8d35-56b2-4410-ac0b-285cf42ca82c",
   "metadata": {},
   "source": [
    "perpouse of map() function."
   ]
  },
  {
   "cell_type": "markdown",
   "id": "f59cd67c-e554-4d62-8360-5e5b9dd35ae9",
   "metadata": {},
   "source": [
    "the map() function in python is used to apply a specifiled functions to all items i an iterable  and returns "
   ]
  },
  {
   "cell_type": "code",
   "execution_count": 4,
   "id": "99f2a096-8c0b-4cfc-ab31-0756748fdf36",
   "metadata": {},
   "outputs": [
    {
     "name": "stdout",
     "output_type": "stream",
     "text": [
      "[1, 4, 9, 16, 25]\n"
     ]
    }
   ],
   "source": [
    "def square(x):\n",
    "    return x ** 2\n",
    "numbers = [1,2,3,4,5]\n",
    "squared_numbers = map(square, numbers)\n",
    "result=list(squared_numbers)\n",
    "print(result)"
   ]
  },
  {
   "cell_type": "markdown",
   "id": "d900079a-d86e-481b-a721-82def04ec3f7",
   "metadata": {},
   "source": [
    "2.Python program to square each element of a list using map():"
   ]
  },
  {
   "cell_type": "code",
   "execution_count": 2,
   "id": "1fcd17fc-f10d-4f04-88c5-561caa364dda",
   "metadata": {},
   "outputs": [
    {
     "name": "stdout",
     "output_type": "stream",
     "text": [
      "[1, 4, 9, 16, 25, 36]\n"
     ]
    }
   ],
   "source": [
    "numbers=[1,2,3,4,5,6]\n",
    "squared_numbers = map(lambda x: x**2,numbers)\n",
    "result = list(squared_numbers)\n",
    "print(result)"
   ]
  },
  {
   "cell_type": "markdown",
   "id": "2ad6a96a-5fc9-497e-a29a-6443bcb1cc90",
   "metadata": {},
   "source": [
    "3.Difference between map() and list comprehension:"
   ]
  },
  {
   "cell_type": "markdown",
   "id": "a271abd7-d17d-4aa4-b08e-62736275fc2a",
   "metadata": {},
   "source": [
    "map() applies a function to each element of an iterable and returns an iterator, \n",
    "while list comprehension creates a new list by specifying the transformation for each element.\n",
    "\n",
    "map() may be more readable when applying a function to an existing one, while list comprehension is concise for creating a new list based on a condition.\n",
    "\n",
    "List comprehension is often preferred when the transformation logic is simple and can be expressed in a single line."
   ]
  },
  {
   "cell_type": "markdown",
   "id": "42758646-125a-4373-95f6-3ca613c6ccf8",
   "metadata": {},
   "source": [
    "4.Python program to convert a list of names to uppercase using map():"
   ]
  },
  {
   "cell_type": "code",
   "execution_count": 4,
   "id": "4f4eb24c-b0f7-4e12-9421-b75206519197",
   "metadata": {},
   "outputs": [
    {
     "name": "stdout",
     "output_type": "stream",
     "text": [
      "['ALICE', 'BOB', 'CHARLIE']\n"
     ]
    }
   ],
   "source": [
    "\n",
    "names = [\"Alice\", \"Bob\", \"Charlie\"]\n",
    "\n",
    "\n",
    "uppercased_names = map(str.upper, names)\n",
    "\n",
    "\n",
    "result = list(uppercased_names)\n",
    "print(result)\n"
   ]
  },
  {
   "cell_type": "markdown",
   "id": "df952f6d-6d9b-4191-8f68-094b03adf038",
   "metadata": {},
   "source": [
    "5.Python program to calculate the length of each word in a list of strings using map():"
   ]
  },
  {
   "cell_type": "code",
   "execution_count": null,
   "id": "c136d898-d8d5-4a21-b4fb-c27aef5881c0",
   "metadata": {},
   "outputs": [],
   "source": [
    "# Define a list of strings\n",
    "words = [\"apple\", \"banana\", \"cherry\"]\n",
    "\n",
    "# Use map() to calculate the length of each word\n",
    "word_lengths = map(len, words)\n",
    "\n",
    "# Convert the iterator to a list for display\n",
    "result = list(word_lengths)\n",
    "print(result)\n"
   ]
  },
  {
   "cell_type": "markdown",
   "id": "e08a9c02-54e4-4326-82b5-f2ecd9a72865",
   "metadata": {},
   "source": [
    "6.How can you use the `map()` function to apply a custom function to elements of multiple lists simultaneously in Python?"
   ]
  },
  {
   "cell_type": "code",
   "execution_count": 12,
   "id": "7498af62-5a70-441b-bae2-1f4c43574316",
   "metadata": {},
   "outputs": [
    {
     "name": "stdout",
     "output_type": "stream",
     "text": [
      "[6, 8, 10, 12]\n"
     ]
    }
   ],
   "source": [
    "numbers1 = [1, 2, 3, 4]\n",
    "numbers2 = [5, 6, 7, 8]\n",
    "\n",
    "def add_elements(x, y):\n",
    "    return x + y\n",
    "result = map(add_elements, numbers1, numbers2)\n",
    "result_list = list(result)\n",
    "print(result_list)\n"
   ]
  },
  {
   "cell_type": "markdown",
   "id": "a260f602-5709-4f33-b645-0364f248446f",
   "metadata": {},
   "source": [
    "7.Create a Python program that uses `map()` to convert a list of temperatures from Celsius to Fahrenheit."
   ]
  },
  {
   "cell_type": "code",
   "execution_count": 15,
   "id": "f374ad2f-9e79-42a9-bf95-502fe5b26f70",
   "metadata": {},
   "outputs": [
    {
     "name": "stdout",
     "output_type": "stream",
     "text": [
      "[32.0, 77.0, 98.6, 212.0]\n"
     ]
    }
   ],
   "source": [
    "celsius_temps = [0, 25, 37, 100]\n",
    "def celsius_to_fahrenheit(celsius):\n",
    "    return (celsius * 9/5) + 32\n",
    "fahrenheit_temps = map(celsius_to_fahrenheit, celsius_temps)\n",
    "result = list(fahrenheit_temps)\n",
    "print(result)\n"
   ]
  },
  {
   "cell_type": "markdown",
   "id": "9cff2eec-60c2-4a0a-9df6-5aab12a81c93",
   "metadata": {},
   "source": [
    "8.Write a Python program that uses the `map()` function to round each element of a list of floating-point numbers to the nearest integer."
   ]
  },
  {
   "cell_type": "code",
   "execution_count": 14,
   "id": "be4656bb-743f-43f8-89ab-a6a0e3b241e7",
   "metadata": {},
   "outputs": [
    {
     "name": "stdout",
     "output_type": "stream",
     "text": [
      "[3, 3, 2, 8]\n"
     ]
    }
   ],
   "source": [
    "float_numbers = [3.14, 2.718, 1.5, 7.8]\n",
    "rounded_numbers = map(round, float_numbers)\n",
    "result = list(rounded_numbers)\n",
    "print(result)\n"
   ]
  },
  {
   "cell_type": "markdown",
   "id": "96e8d3bc-46cf-49b9-805e-bb40d5008d62",
   "metadata": {},
   "source": [
    "1.What is the `reduce()` function in Python, and what module should you import to use it? Provide an example of its basic usage."
   ]
  },
  {
   "cell_type": "code",
   "execution_count": 8,
   "id": "6d6f48d3-a7a8-4d0f-83b0-e01f08f098e8",
   "metadata": {},
   "outputs": [
    {
     "name": "stdout",
     "output_type": "stream",
     "text": [
      "15\n"
     ]
    }
   ],
   "source": [
    "from functools import reduce\n",
    "numbers = [1, 2, 3, 4, 5]\n",
    "def add(x, y):\n",
    "    return x + y\n",
    "result = reduce(add, numbers)\n",
    "print(result)\n"
   ]
  },
  {
   "cell_type": "markdown",
   "id": "1af29bc0-b83f-47c6-805c-f6664e7c5e08",
   "metadata": {},
   "source": [
    "2.Write a Python program that uses the `reduce()` function to find the product of all elements in a list."
   ]
  },
  {
   "cell_type": "code",
   "execution_count": 9,
   "id": "1879ef2e-3e60-4018-8c56-a5eacc85c65e",
   "metadata": {},
   "outputs": [
    {
     "name": "stdout",
     "output_type": "stream",
     "text": [
      "120\n"
     ]
    }
   ],
   "source": [
    "from functools import reduce\n",
    "numbers = [2, 3, 4, 5]\n",
    "def multiply(x, y):\n",
    "    return x * y\n",
    "result = reduce(multiply, numbers)\n",
    "print(result)\n"
   ]
  },
  {
   "cell_type": "markdown",
   "id": "3e301f68-2085-4ac8-baa2-e15d85b0a2f5",
   "metadata": {},
   "source": [
    "3.Create a Python program that uses `reduce()` to find the maximum element in a list of numbers."
   ]
  },
  {
   "cell_type": "code",
   "execution_count": 10,
   "id": "5b428b6e-8dc0-4358-a648-bdd8087908a1",
   "metadata": {},
   "outputs": [
    {
     "name": "stdout",
     "output_type": "stream",
     "text": [
      "22\n"
     ]
    }
   ],
   "source": [
    "from functools import reduce\n",
    "numbers = [15, 8, 22, 5, 17]\n",
    "max_number = reduce(lambda x, y: x if x > y else y, numbers)\n",
    "print(max_number)\n"
   ]
  },
  {
   "cell_type": "markdown",
   "id": "51c0617b-f328-41a0-8589-042a75bd9ac7",
   "metadata": {},
   "source": [
    "4.How can you use the `reduce()` function to concatenate a list of strings into a single string?"
   ]
  },
  {
   "cell_type": "code",
   "execution_count": 11,
   "id": "6da0b959-74c1-410e-85f3-42362731ef7c",
   "metadata": {},
   "outputs": [
    {
     "name": "stdout",
     "output_type": "stream",
     "text": [
      "Hello, world!\n"
     ]
    }
   ],
   "source": [
    "from functools import reduce\n",
    "strings = [\"Hello\", \", \", \"world\", \"!\"]\n",
    "concatenated_string = reduce(lambda x, y: x + y, strings)\n",
    "print(concatenated_string)\n"
   ]
  },
  {
   "cell_type": "markdown",
   "id": "75f9edae-2150-4af8-b323-a912b85fa4eb",
   "metadata": {},
   "source": [
    "5.Write a Python program that calculates the factorial of a number using the `reduce()` function"
   ]
  },
  {
   "cell_type": "code",
   "execution_count": 1,
   "id": "542b5f4b-0723-4812-8ec8-74eac76481a7",
   "metadata": {},
   "outputs": [
    {
     "name": "stdin",
     "output_type": "stream",
     "text": [
      "Enter a number to calculate its factorial:  4\n"
     ]
    },
    {
     "name": "stdout",
     "output_type": "stream",
     "text": [
      "The factorial of 4 is: 24\n"
     ]
    }
   ],
   "source": [
    "from functools import reduce\n",
    "\n",
    "def factorial(n):\n",
    "    result = reduce(lambda x, y: x * y, range(1, n + 1), 1)\n",
    "    return result\n",
    "number = int(input(\"Enter a number to calculate its factorial: \"))\n",
    "\n",
    "print(f\"The factorial of {number} is: {factorial(number)}\")\n"
   ]
  },
  {
   "cell_type": "markdown",
   "id": "b6f0fdcd-2b82-49a4-ab44-25983bfda052",
   "metadata": {},
   "source": [
    "6.Create a Python program that uses `reduce()` to find the GCD (Greatest Common Divisor) of a list of numbers."
   ]
  },
  {
   "cell_type": "code",
   "execution_count": 2,
   "id": "95248180-1eda-474b-a679-8dd6177e055f",
   "metadata": {},
   "outputs": [
    {
     "name": "stdin",
     "output_type": "stream",
     "text": [
      "Enter a list of numbers separated by spaces:  3 4\n"
     ]
    },
    {
     "name": "stdout",
     "output_type": "stream",
     "text": [
      "The GCD of the given numbers is: 1\n"
     ]
    }
   ],
   "source": [
    "from functools import reduce\n",
    "from math import gcd\n",
    "\n",
    "def find_gcd(numbers):\n",
    "    result = reduce(gcd, numbers)\n",
    "    return result\n",
    "\n",
    "numbers = list(map(int, input(\"Enter a list of numbers separated by spaces: \").split()))\n",
    "if not numbers:\n",
    "    print(\"List is empty. Please provide at least one number.\")\n",
    "else:\n",
    "    gcd_result = find_gcd(numbers)\n",
    "    print(f\"The GCD of the given numbers is: {gcd_result}\")\n"
   ]
  },
  {
   "cell_type": "markdown",
   "id": "10e26fb8-19bc-4da2-bd0a-b053ecdaf81c",
   "metadata": {},
   "source": [
    "7.Write a Python program that uses the `reduce()` function to find the sum of the digits of a given number."
   ]
  },
  {
   "cell_type": "code",
   "execution_count": 3,
   "id": "781ba6fe-c92e-44f7-922f-003c7e4c2063",
   "metadata": {},
   "outputs": [
    {
     "name": "stdin",
     "output_type": "stream",
     "text": [
      "Enter a number:  8\n"
     ]
    },
    {
     "name": "stdout",
     "output_type": "stream",
     "text": [
      "The sum of digits in 8 is: 8\n"
     ]
    }
   ],
   "source": [
    "from functools import reduce\n",
    "\n",
    "def sum_of_digits(number):\n",
    "    result = reduce(lambda x, y: int(x) + int(y), str(number), 0)\n",
    "    return result\n",
    "\n",
    "input_number = input(\"Enter a number: \")\n",
    "\n",
    "if not input_number.isdigit():\n",
    "    print(\"Invalid input. Please enter a valid number.\")\n",
    "else:\n",
    "   \n",
    "    sum_result = sum_of_digits(input_number)\n",
    "    print(f\"The sum of digits in {input_number} is: {sum_result}\")\n"
   ]
  },
  {
   "cell_type": "markdown",
   "id": "242835a0-e373-4dca-9151-d57768c50a0b",
   "metadata": {},
   "source": [
    "\n",
    "\n",
    "\n",
    "\n",
    "Filter :-"
   ]
  },
  {
   "cell_type": "markdown",
   "id": "8e0ac4c1-2d48-4437-be43-32a4b88caba8",
   "metadata": {},
   "source": [
    "1.Explain the purpose of the `filter()` function in Python and provide an example of how it can be"
   ]
  },
  {
   "cell_type": "markdown",
   "id": "84f89a03-97f1-4a28-9458-46c434dc9ef5",
   "metadata": {},
   "source": [
    "ans:-The filter() function in Python is used to filter elements from an iterable based on a specified function (or None, for just filtering out the truthy values). It returns an iterator of the elements for which the function returns true."
   ]
  },
  {
   "cell_type": "code",
   "execution_count": 2,
   "id": "dfda175e-1d09-49fe-a69d-574eb282609b",
   "metadata": {},
   "outputs": [
    {
     "name": "stdout",
     "output_type": "stream",
     "text": [
      "[2, 4, 6, 8, 10]\n"
     ]
    }
   ],
   "source": [
    "numbers = [1, 2, 3, 4, 5, 6, 7, 8, 9, 10]\n",
    "\n",
    "def is_even(num):\n",
    "    return num % 2 == 0\n",
    "\n",
    "filtered_numbers = filter(is_even, numbers)\n",
    "result = list(filtered_numbers)\n",
    "\n",
    "print(result) "
   ]
  },
  {
   "cell_type": "markdown",
   "id": "e431de1a-8fa8-4ada-a172-dcc7664add11",
   "metadata": {},
   "source": [
    "3.Write a Python program that uses the `filter()` function to select even numbers "
   ]
  },
  {
   "cell_type": "code",
   "execution_count": 3,
   "id": "2f0afef5-88aa-42f1-973d-dbab87def6ac",
   "metadata": {},
   "outputs": [
    {
     "name": "stdout",
     "output_type": "stream",
     "text": [
      "[2, 4, 6, 8, 10]\n"
     ]
    }
   ],
   "source": [
    "numbers = [1, 2, 3, 4, 5, 6, 7, 8, 9, 10]\n",
    "\n",
    "def is_even(num):\n",
    "    return num % 2 == 0\n",
    "\n",
    "filtered_numbers = filter(is_even, numbers)\n",
    "result = list(filtered_numbers)\n",
    "\n",
    "print(result)  \n"
   ]
  },
  {
   "cell_type": "markdown",
   "id": "f726337f-8ff5-44a2-9094-6bc5274986a7",
   "metadata": {},
   "source": [
    "4.Create a Python program that uses the `filter()` function to select names that start with a specific letter from a list of strings."
   ]
  },
  {
   "cell_type": "code",
   "execution_count": 4,
   "id": "3601d70e-e254-4bd1-ab4c-0f3d1004701f",
   "metadata": {},
   "outputs": [
    {
     "name": "stdout",
     "output_type": "stream",
     "text": [
      "['Bob']\n"
     ]
    }
   ],
   "source": [
    "names = [\"Alice\", \"Bob\", \"Charlie\", \"David\", \"Eva\"]\n",
    "start_letter = \"B\"\n",
    "\n",
    "filtered_names = filter(lambda name: name.startswith(start_letter), names)\n",
    "result = list(filtered_names)\n",
    "\n",
    "print(result) \n"
   ]
  },
  {
   "cell_type": "markdown",
   "id": "cf1d1ce2-22e6-42ba-bec0-97419c9f60a6",
   "metadata": {},
   "source": [
    "5.Write a Python program that uses the `filter()` function to select prime numbers from a list of integers."
   ]
  },
  {
   "cell_type": "code",
   "execution_count": 5,
   "id": "f037a9c8-91ac-4efe-ac7f-67644cda1694",
   "metadata": {},
   "outputs": [
    {
     "name": "stdout",
     "output_type": "stream",
     "text": [
      "[2, 3, 5, 7]\n"
     ]
    }
   ],
   "source": [
    "def is_prime(num):\n",
    "    if num < 2:\n",
    "        return False\n",
    "    for i in range(2, int(num**0.5) + 1):\n",
    "        if num % i == 0:\n",
    "            return False\n",
    "    return True\n",
    "\n",
    "numbers = [1, 2, 3, 4, 5, 6, 7, 8, 9, 10]\n",
    "\n",
    "filtered_primes = filter(is_prime, numbers)\n",
    "result = list(filtered_primes)\n",
    "\n",
    "print(result) \n",
    "\n"
   ]
  },
  {
   "cell_type": "markdown",
   "id": "9e1bd672-33d4-4f95-b384-4cfa74221dc8",
   "metadata": {},
   "source": [
    "6.How can you use the `filter()` function to remove None values from a list in Python?"
   ]
  },
  {
   "cell_type": "code",
   "execution_count": 6,
   "id": "4342d33c-26ad-402a-b389-e20792bbfb6d",
   "metadata": {},
   "outputs": [
    {
     "name": "stdout",
     "output_type": "stream",
     "text": [
      "[1, 3, 5, 6, 8, 9, 10]\n"
     ]
    }
   ],
   "source": [
    "values = [1, None, 3, None, 5, 6, None, 8, 9, 10]\n",
    "\n",
    "filtered_values = filter(lambda x: x is not None, values)\n",
    "result = list(filtered_values)\n",
    "\n",
    "print(result)  \n"
   ]
  },
  {
   "cell_type": "markdown",
   "id": "798f085a-adcc-47bf-b378-e5df8d666b4a",
   "metadata": {},
   "source": [
    "Create a Python program that uses `filter()` to select words longer than a certain length from a list of strings."
   ]
  },
  {
   "cell_type": "code",
   "execution_count": 7,
   "id": "274ca2e9-6f66-43af-a948-fae9f33e1153",
   "metadata": {},
   "outputs": [
    {
     "name": "stdout",
     "output_type": "stream",
     "text": [
      "['banana', 'orange']\n"
     ]
    }
   ],
   "source": [
    "words = [\"apple\", \"banana\", \"kiwi\", \"grape\", \"orange\"]\n",
    "min_length = 5\n",
    "\n",
    "filtered_words = filter(lambda word: len(word) > min_length, words)\n",
    "result = list(filtered_words)\n",
    "\n",
    "print(result) "
   ]
  },
  {
   "cell_type": "markdown",
   "id": "59826083-5cec-48de-9991-54234144a5eb",
   "metadata": {},
   "source": [
    "Write a Python program that uses the `filter()` function to select elements greater than a specified threshold from a list of values.\n"
   ]
  },
  {
   "cell_type": "code",
   "execution_count": 8,
   "id": "cf47703d-cb08-470d-84ce-0b9c47cbc1bb",
   "metadata": {},
   "outputs": [
    {
     "name": "stdout",
     "output_type": "stream",
     "text": [
      "Values greater than 15: [25, 30, 18]\n"
     ]
    }
   ],
   "source": [
    "def filter_greater_than_threshold(value, threshold):\n",
    "    return value > threshold\n",
    "values = [10, 25, 5, 30, 15, 8, 18]\n",
    "threshold_value = 15\n",
    "filtered_values = filter(lambda x: filter_greater_than_threshold(x, threshold_value), values)\n",
    "result = list(filtered_values)\n",
    "print(f\"Values greater than {threshold_value}: {result}\")\n"
   ]
  },
  {
   "cell_type": "markdown",
   "id": "2158a0be-ec78-4fcc-8a7d-eda891bf02dd",
   "metadata": {},
   "source": [
    "1.Explain the concept of recursion in Python. How does it differ from iteration?\n"
   ]
  },
  {
   "cell_type": "markdown",
   "id": "89b723e4-982a-4424-bd20-4fd7c36eedb0",
   "metadata": {},
   "source": [
    "Recursion is a programming concept where a function calls itself in its own definition to solve a smaller instance of the same problem. In Python, a recursive function typically has a base case that directly provides the result for the smallest input and a recursive case that breaks the larger problem into smaller subproblems.\n",
    "\n"
   ]
  },
  {
   "cell_type": "markdown",
   "id": "c8b8e3b6-b78b-4aac-acde-8a2a4d8c407d",
   "metadata": {},
   "source": [
    ".Write a Python program to calculate the factorial of a number using recursion."
   ]
  },
  {
   "cell_type": "code",
   "execution_count": 1,
   "id": "9ddf6c7c-8bac-4779-aa0a-4eb76a551354",
   "metadata": {},
   "outputs": [
    {
     "name": "stdout",
     "output_type": "stream",
     "text": [
      "The 6th Fibonacci number is 8\n"
     ]
    }
   ],
   "source": [
    "def fibonacci(n):\n",
    "    if n <= 1:\n",
    "        return n\n",
    "    else:\n",
    "        return fibonacci(n - 1) + fibonacci(n - 2)\n",
    "term = 6\n",
    "result = fibonacci(term)\n",
    "print(f\"The {term}th Fibonacci number is {result}\")\n"
   ]
  },
  {
   "cell_type": "markdown",
   "id": "9a1fcf01-8e81-4b52-9b56-3abc4da9705d",
   "metadata": {},
   "source": [
    "4.Write a recursive Python function to calculate the sum of all elements in a list."
   ]
  },
  {
   "cell_type": "code",
   "execution_count": 10,
   "id": "97ed887b-f4e2-47a5-95fb-b84eee7f495b",
   "metadata": {},
   "outputs": [
    {
     "name": "stdout",
     "output_type": "stream",
     "text": [
      "The sum of the list is 15\n"
     ]
    }
   ],
   "source": [
    "def sum_list_recursive(lst):\n",
    "    if not lst:\n",
    "        return 0\n",
    "    else:\n",
    "        return lst[0] + sum_list_recursive(lst[1:])\n",
    "rs = [1, 2, 3, 4, 5]\n",
    "result = sum_list_recursive(numbers)\n",
    "print(f\"The sum of the list is {result}\")\n"
   ]
  },
  {
   "cell_type": "markdown",
   "id": "0c4b76d7-bf5f-42b5-9aa5-ee9c08e08408",
   "metadata": {},
   "source": [
    "5.Create a recursive Python function to find the greatest common divisor (GCD) of two numbers using the Euclidean algorithm."
   ]
  },
  {
   "cell_type": "code",
   "execution_count": 3,
   "id": "95da5098-2575-4976-ac9b-d7002f2ad7d7",
   "metadata": {},
   "outputs": [
    {
     "name": "stdout",
     "output_type": "stream",
     "text": [
      "The GCD of 48 and 18 is 6\n"
     ]
    }
   ],
   "source": [
    "def gcd(a, b):\n",
    "    if b == 0:\n",
    "        return a\n",
    "    else:\n",
    "        return gcd(b, a % b)\n",
    "num1, num2 = 48, 18\n",
    "result = gcd(num1, num2)\n",
    "print(f\"The GCD of {num1} and {num2} is {result}\")\n"
   ]
  },
  {
   "cell_type": "markdown",
   "id": "6a1a72ae-658a-4b5a-8c7c-2d2f78a4eb6e",
   "metadata": {},
   "source": [
    "7.Write a recursive Python function to reverse a string."
   ]
  },
  {
   "cell_type": "code",
   "execution_count": 4,
   "id": "7c759130-a750-4edd-a482-a240e03f0e02",
   "metadata": {},
   "outputs": [
    {
     "name": "stdout",
     "output_type": "stream",
     "text": [
      "The reversed string is: olleh\n"
     ]
    }
   ],
   "source": [
    "def reverse_string(s):\n",
    "    if not s:\n",
    "        return s\n",
    "    else:\n",
    "        return s[-1] + reverse_string(s[:-1])\n",
    "input_str = \"hello\"\n",
    "result = reverse_string(input_str)\n",
    "print(f\"The reversed string is: {result}\")\n"
   ]
  },
  {
   "cell_type": "markdown",
   "id": "9beabc0d-7da6-4b2d-aa76-ff6d9eb8cd7d",
   "metadata": {},
   "source": [
    "Create a recursive Python function to calculate the power of a number (x^n)."
   ]
  },
  {
   "cell_type": "code",
   "execution_count": 5,
   "id": "8d999c7d-6514-494d-bc15-322d2be1602a",
   "metadata": {},
   "outputs": [
    {
     "name": "stdout",
     "output_type": "stream",
     "text": [
      "2 raised to the power of 3 is 8\n"
     ]
    }
   ],
   "source": [
    "def power(x, n):\n",
    "    if n == 0:\n",
    "        return 1\n",
    "    else:\n",
    "        return x * power(x, n - 1)\n",
    "base, exponent = 2, 3\n",
    "result = power(base, exponent)\n",
    "print(f\"{base} raised to the power of {exponent} is {result}\")\n"
   ]
  },
  {
   "cell_type": "markdown",
   "id": "4c168673-a636-415b-8e8d-c8eb81826076",
   "metadata": {},
   "source": [
    "Write a recursive Python function to find all permutations of a given string."
   ]
  },
  {
   "cell_type": "code",
   "execution_count": 6,
   "id": "b8be9fd1-e611-4c16-8dfa-ce845bef9ca9",
   "metadata": {},
   "outputs": [
    {
     "name": "stdout",
     "output_type": "stream",
     "text": [
      "All permutations of abc: ['abc', 'acb', 'bac', 'bca', 'cab', 'cba']\n"
     ]
    }
   ],
   "source": [
    "def permutations(s):\n",
    "    if len(s) == 1:\n",
    "        return [s]\n",
    "    else:\n",
    "        perms = []\n",
    "        for i, char in enumerate(s):\n",
    "            rest = s[:i] + s[i+1:]\n",
    "            for p in permutations(rest):\n",
    "                perms.append(char + p)\n",
    "        return perms\n",
    "input_str = \"abc\"\n",
    "result = permutations(input_str)\n",
    "print(f\"All permutations of {input_str}: {result}\")\n"
   ]
  },
  {
   "cell_type": "markdown",
   "id": "907b7a27-ea13-4ccc-8362-b30fd5c990fa",
   "metadata": {},
   "source": []
  },
  {
   "cell_type": "markdown",
   "id": "59a1fdc2-de95-408b-af78-a442ed78af1f",
   "metadata": {},
   "source": [
    "Write a recursive Python function to check if a string is a palindrome."
   ]
  },
  {
   "cell_type": "code",
   "execution_count": 9,
   "id": "a9051b57-c0f0-4706-964e-79bd7775cf03",
   "metadata": {},
   "outputs": [
    {
     "name": "stdout",
     "output_type": "stream",
     "text": [
      "radar is a palindrome.\n"
     ]
    }
   ],
   "source": [
    "def is_palindrome(s):\n",
    "    if len(s) <= 1:\n",
    "        return True\n",
    "    else:\n",
    "        return s[0] == s[-1] and is_palindrome(s[1:-1])\n",
    "test_str = \"radar\"\n",
    "if is_palindrome(test_str):\n",
    "    print(f\"{test_str} is a palindrome.\")\n",
    "else:\n",
    "    print(f\"{test_str} is not a palindrome.\")\n"
   ]
  }
 ],
 "metadata": {
  "kernelspec": {
   "display_name": "Python 3 (ipykernel)",
   "language": "python",
   "name": "python3"
  },
  "language_info": {
   "codemirror_mode": {
    "name": "ipython",
    "version": 3
   },
   "file_extension": ".py",
   "mimetype": "text/x-python",
   "name": "python",
   "nbconvert_exporter": "python",
   "pygments_lexer": "ipython3",
   "version": "3.10.8"
  }
 },
 "nbformat": 4,
 "nbformat_minor": 5
}
